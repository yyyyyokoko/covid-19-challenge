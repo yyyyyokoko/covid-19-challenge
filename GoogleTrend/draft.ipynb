{
 "cells": [
  {
   "cell_type": "code",
   "execution_count": 283,
   "metadata": {},
   "outputs": [],
   "source": [
    "import pandas as pd\n",
    "import os\n",
    "import plotly.graph_objs as go\n",
    "import plotly.express as px\n",
    "from copy import deepcopy\n",
    "from plotly.subplots import make_subplots\n"
   ]
  },
  {
   "cell_type": "code",
   "execution_count": 24,
   "metadata": {},
   "outputs": [],
   "source": [
    "df1 = pd.read_excel('Coronavirus_DailyTrendsdata.xlsx',  sheet_name='US', header=1)"
   ]
  },
  {
   "cell_type": "code",
   "execution_count": 25,
   "metadata": {},
   "outputs": [],
   "source": [
    "delnames = [i for i in df1.columns if 'City' in i]\n",
    "df1.drop(delnames, inplace=True, axis=1)"
   ]
  },
  {
   "cell_type": "code",
   "execution_count": 29,
   "metadata": {},
   "outputs": [],
   "source": [
    "df1 = df1.dropna(how='all')"
   ]
  },
  {
   "cell_type": "markdown",
   "metadata": {},
   "source": [
    "### bar chart race"
   ]
  },
  {
   "cell_type": "code",
   "execution_count": 126,
   "metadata": {},
   "outputs": [],
   "source": [
    "basepath = 'data/'\n",
    "files = os.listdir(basepath)"
   ]
  },
  {
   "cell_type": "code",
   "execution_count": 127,
   "metadata": {},
   "outputs": [],
   "source": [
    "total = pd.DataFrame()\n",
    "temp = pd.read_csv(basepath +files[0], skiprows = 1)\n",
    "total['Day'] = temp['Day']    "
   ]
  },
  {
   "cell_type": "code",
   "execution_count": 128,
   "metadata": {},
   "outputs": [],
   "source": [
    "for i in files:\n",
    "    a = pd.read_csv(basepath + i, skiprows = 1)\n",
    "    colname = a.columns[1]\n",
    "    a.loc[a[colname] == '<1',colname] = 0\n",
    "    newName = colname.split(\":\")[0]\n",
    "    total[newName] = a[colname]"
   ]
  },
  {
   "cell_type": "code",
   "execution_count": 129,
   "metadata": {},
   "outputs": [],
   "source": [
    "#total.cumsum()\n",
    "total = total.fillna(0)\n",
    "total.iloc[:,1:] = total.iloc[:,1:].apply(pd.to_numeric)\n",
    "#total.iloc[:,1:] = total.iloc[:,1:].cumsum()\n",
    "#total.transpose().to_csv(\"NoRunningSum.csv\")"
   ]
  },
  {
   "cell_type": "code",
   "execution_count": 130,
   "metadata": {},
   "outputs": [],
   "source": [
    "#total.to_csv(\"cleanedData.csv\")"
   ]
  },
  {
   "cell_type": "code",
   "execution_count": 131,
   "metadata": {},
   "outputs": [],
   "source": [
    "#total.transpose().to_csv(\"cleanedDataAlternate.csv\")"
   ]
  },
  {
   "cell_type": "markdown",
   "metadata": {},
   "source": [
    "### line"
   ]
  },
  {
   "cell_type": "code",
   "execution_count": 169,
   "metadata": {},
   "outputs": [],
   "source": [
    "basepath2 = 'generalTerms/'\n",
    "files2 = os.listdir(basepath2)"
   ]
  },
  {
   "cell_type": "code",
   "execution_count": 365,
   "metadata": {},
   "outputs": [],
   "source": [
    "plotnames = []\n",
    "for i in files2:\n",
    "    a = pd.read_csv(basepath2 + i, skiprows = 1)\n",
    "    colname = a.columns[1]\n",
    "    plotnames.append(colname.split(':')[0])"
   ]
  },
  {
   "cell_type": "code",
   "execution_count": 417,
   "metadata": {},
   "outputs": [],
   "source": [
    "#for i in files2:\n",
    "def getData(i):\n",
    "    a = pd.read_csv(basepath2 + i, skiprows = 1)\n",
    "    a[['Year','Month', 'Day']] = a.Week.str.split('-', expand=True)\n",
    "    colname = a.columns[1]\n",
    "    a.columns.values[1] = colname.split(':')[0]\n",
    "    #colname2 = a.columns[0].split('-')[1:]\n",
    "    #a.columns.values[0] = \"-\".join(colname2)\n",
    "    a = a[(a['Year'] == '2019') | (a['Year'] == '2020')]\n",
    "    a = a[(a['Month'] == '01') | (a['Month'] == '02') | (a['Month'] == '03') | (a['Month'] == '04')]\n",
    "    #a['Week'] = pd.to_datetime(a.Week)\n",
    "    a['Week'] = [\"/\".join(x.split('-')[1:]) for x in a['Week']]\n",
    "    df1 = a[(a['Year'] == '2019')]\n",
    "    df2 = a[(a['Year'] == '2020')]\n",
    "    df1.loc[:,'Week'] = df2.Week.values\n",
    "    return df1 , df2"
   ]
  },
  {
   "cell_type": "code",
   "execution_count": 429,
   "metadata": {},
   "outputs": [],
   "source": [
    "fig = make_subplots(rows=3, cols=4, subplot_titles=plotnames)\n",
    "\n",
    "df2019, df2020= getData(files2[0])\n",
    "traceapp1 = go.Scatter(x = df2019.Week, y = df2019.iloc[:,1],\n",
    "                name = '2019',\n",
    "                mode='lines',\n",
    "                legendgroup='group1',\n",
    "                line = dict(width = 1,\n",
    "                            color = 'rgb(111, 231, 219)'),\n",
    "                fill='tozeroy')\n",
    "\n",
    "traceapp2 = go.Scatter(x = df2020.Week, y = df2020.iloc[:,1],\n",
    "                    name = '2020',\n",
    "                    legendgroup='group1',\n",
    "                    mode='lines',\n",
    "                    line = dict(width = 1,\n",
    "                                color = 'red'),\n",
    "                    fill='tozeroy')\n",
    "\n",
    "fig.add_trace(traceapp2,\n",
    "              row=1, col=1)\n",
    "fig.add_trace(traceapp1,\n",
    "              row=1, col=1)\n",
    "fig.update_xaxes(tickangle=45, tickfont=dict(family='Rockwell', color='black', size=10), row=1, col=1)\n",
    "\n",
    "\n",
    "for i in range(1, len(files2)):\n",
    "    df2019, df2020= getData(files2[i])\n",
    "    traceapp1 = go.Scatter(x = df2019.Week, y = df2019.iloc[:,1],\n",
    "                    name = '2019',\n",
    "                    mode='lines',\n",
    "                    line = dict(width = 1,\n",
    "                                color = 'rgb(111, 231, 219)'),\n",
    "                    fill='tozeroy',\n",
    "                    showlegend= False)\n",
    "\n",
    "    traceapp2 = go.Scatter(x = df2020.Week, y = df2020.iloc[:,1],\n",
    "                        name = '2020',\n",
    "                        mode='lines',\n",
    "                        line = dict(width = 1,\n",
    "                                    color = 'red'),\n",
    "                        fill='tozeroy',\n",
    "                        showlegend= False)\n",
    "\n",
    "    if i <= 3:\n",
    "        fig.add_trace(traceapp2,\n",
    "                      row=1, col=i+1)\n",
    "        fig.add_trace(traceapp1,\n",
    "                      row=1, col=i+1)\n",
    "        fig.update_xaxes(tickangle=45, tickfont=dict(family='Rockwell', color='black', size=10), row=1, col=i+1)\n",
    "    elif 4 <= i <= 7:\n",
    "        fig.add_trace(traceapp2,\n",
    "                      row=2, col=i-3)\n",
    "        fig.add_trace(traceapp1,\n",
    "                      row=2, col=i-3)\n",
    "        fig.update_xaxes(tickangle=45,tickfont=dict(family='Rockwell', color='black', size=10), row=2, col=i-3)\n",
    "    elif 8 <= i <= 11:\n",
    "        fig.add_trace(traceapp2,\n",
    "                      row=3, col=i-7)\n",
    "        fig.add_trace(traceapp1,\n",
    "                      row=3, col=i-7)\n",
    "        fig.update_xaxes(tickangle=45,tickfont=dict(family='Rockwell', color='black', size=10), row=3, col=i-7)\n",
    "        "
   ]
  },
  {
   "cell_type": "code",
   "execution_count": 430,
   "metadata": {},
   "outputs": [
    {
     "data": {
      "application/vnd.plotly.v1+json": {
       "config": {
        "plotlyServerURL": "https://plot.ly"
       },
       "data": [
        {
         "fill": "tozeroy",
         "legendgroup": "group1",
         "line": {
          "color": "red",
          "width": 1
         },
         "mode": "lines",
         "name": "2020",
         "type": "scatter",
         "x": [
          "01/05",
          "01/12",
          "01/19",
          "01/26",
          "02/02",
          "02/09",
          "02/16",
          "02/23",
          "03/01",
          "03/08",
          "03/15",
          "03/22",
          "03/29",
          "04/05",
          "04/12",
          "04/19",
          "04/26"
         ],
         "xaxis": "x",
         "y": [
          50,
          49,
          49,
          49,
          48,
          48,
          50,
          51,
          51,
          48,
          46,
          50,
          52,
          58,
          61,
          61,
          61
         ],
         "yaxis": "y"
        },
        {
         "fill": "tozeroy",
         "legendgroup": "group1",
         "line": {
          "color": "rgb(111, 231, 219)",
          "width": 1
         },
         "mode": "lines",
         "name": "2019",
         "type": "scatter",
         "x": [
          "01/05",
          "01/12",
          "01/19",
          "01/26",
          "02/02",
          "02/09",
          "02/16",
          "02/23",
          "03/01",
          "03/08",
          "03/15",
          "03/22",
          "03/29",
          "04/05",
          "04/12",
          "04/19",
          "04/26"
         ],
         "xaxis": "x",
         "y": [
          54,
          53,
          53,
          53,
          51,
          52,
          53,
          53,
          55,
          54,
          54,
          54,
          53,
          52,
          54,
          52,
          52
         ],
         "yaxis": "y"
        },
        {
         "fill": "tozeroy",
         "line": {
          "color": "red",
          "width": 1
         },
         "mode": "lines",
         "name": "2020",
         "showlegend": false,
         "type": "scatter",
         "x": [
          "01/05",
          "01/12",
          "01/19",
          "01/26",
          "02/02",
          "02/09",
          "02/16",
          "02/23",
          "03/01",
          "03/08",
          "03/15",
          "03/22",
          "03/29",
          "04/05",
          "04/12",
          "04/19",
          "04/26"
         ],
         "xaxis": "x2",
         "y": [
          87,
          84,
          87,
          86,
          88,
          87,
          87,
          83,
          83,
          86,
          86,
          93,
          88,
          90,
          86,
          85,
          85
         ],
         "yaxis": "y2"
        },
        {
         "fill": "tozeroy",
         "line": {
          "color": "rgb(111, 231, 219)",
          "width": 1
         },
         "mode": "lines",
         "name": "2019",
         "showlegend": false,
         "type": "scatter",
         "x": [
          "01/05",
          "01/12",
          "01/19",
          "01/26",
          "02/02",
          "02/09",
          "02/16",
          "02/23",
          "03/01",
          "03/08",
          "03/15",
          "03/22",
          "03/29",
          "04/05",
          "04/12",
          "04/19",
          "04/26"
         ],
         "xaxis": "x2",
         "y": [
          75,
          73,
          74,
          75,
          71,
          76,
          75,
          73,
          74,
          77,
          78,
          78,
          76,
          78,
          82,
          80,
          77
         ],
         "yaxis": "y2"
        },
        {
         "fill": "tozeroy",
         "line": {
          "color": "red",
          "width": 1
         },
         "mode": "lines",
         "name": "2020",
         "showlegend": false,
         "type": "scatter",
         "x": [
          "01/05",
          "01/12",
          "01/19",
          "01/26",
          "02/02",
          "02/09",
          "02/16",
          "02/23",
          "03/01",
          "03/08",
          "03/15",
          "03/22",
          "03/29",
          "04/05",
          "04/12",
          "04/19",
          "04/26"
         ],
         "xaxis": "x3",
         "y": [
          51,
          48,
          50,
          53,
          51,
          50,
          49,
          52,
          52,
          57,
          61,
          59,
          57,
          57,
          56,
          57,
          57
         ],
         "yaxis": "y3"
        },
        {
         "fill": "tozeroy",
         "line": {
          "color": "rgb(111, 231, 219)",
          "width": 1
         },
         "mode": "lines",
         "name": "2019",
         "showlegend": false,
         "type": "scatter",
         "x": [
          "01/05",
          "01/12",
          "01/19",
          "01/26",
          "02/02",
          "02/09",
          "02/16",
          "02/23",
          "03/01",
          "03/08",
          "03/15",
          "03/22",
          "03/29",
          "04/05",
          "04/12",
          "04/19",
          "04/26"
         ],
         "xaxis": "x3",
         "y": [
          51,
          49,
          49,
          50,
          49,
          48,
          48,
          47,
          47,
          48,
          50,
          48,
          47,
          47,
          46,
          48,
          48
         ],
         "yaxis": "y3"
        },
        {
         "fill": "tozeroy",
         "line": {
          "color": "red",
          "width": 1
         },
         "mode": "lines",
         "name": "2020",
         "showlegend": false,
         "type": "scatter",
         "x": [
          "01/05",
          "01/12",
          "01/19",
          "01/26",
          "02/02",
          "02/09",
          "02/16",
          "02/23",
          "03/01",
          "03/08",
          "03/15",
          "03/22",
          "03/29",
          "04/05",
          "04/12",
          "04/19",
          "04/26"
         ],
         "xaxis": "x4",
         "y": [
          50,
          37,
          41,
          48,
          51,
          40,
          37,
          39,
          43,
          57,
          74,
          68,
          56,
          48,
          46,
          43,
          40
         ],
         "yaxis": "y4"
        },
        {
         "fill": "tozeroy",
         "line": {
          "color": "rgb(111, 231, 219)",
          "width": 1
         },
         "mode": "lines",
         "name": "2019",
         "showlegend": false,
         "type": "scatter",
         "x": [
          "01/05",
          "01/12",
          "01/19",
          "01/26",
          "02/02",
          "02/09",
          "02/16",
          "02/23",
          "03/01",
          "03/08",
          "03/15",
          "03/22",
          "03/29",
          "04/05",
          "04/12",
          "04/19",
          "04/26"
         ],
         "xaxis": "x4",
         "y": [
          35,
          35,
          38,
          34,
          32,
          34,
          32,
          32,
          31,
          31,
          34,
          34,
          31,
          30,
          36,
          31,
          30
         ],
         "yaxis": "y4"
        },
        {
         "fill": "tozeroy",
         "line": {
          "color": "red",
          "width": 1
         },
         "mode": "lines",
         "name": "2020",
         "showlegend": false,
         "type": "scatter",
         "x": [
          "01/05",
          "01/12",
          "01/19",
          "01/26",
          "02/02",
          "02/09",
          "02/16",
          "02/23",
          "03/01",
          "03/08",
          "03/15",
          "03/22",
          "03/29",
          "04/05",
          "04/12",
          "04/19",
          "04/26"
         ],
         "xaxis": "x5",
         "y": [
          41,
          41,
          41,
          40,
          40,
          40,
          41,
          39,
          38,
          41,
          46,
          48,
          46,
          46,
          43,
          42,
          42
         ],
         "yaxis": "y5"
        },
        {
         "fill": "tozeroy",
         "line": {
          "color": "rgb(111, 231, 219)",
          "width": 1
         },
         "mode": "lines",
         "name": "2019",
         "showlegend": false,
         "type": "scatter",
         "x": [
          "01/05",
          "01/12",
          "01/19",
          "01/26",
          "02/02",
          "02/09",
          "02/16",
          "02/23",
          "03/01",
          "03/08",
          "03/15",
          "03/22",
          "03/29",
          "04/05",
          "04/12",
          "04/19",
          "04/26"
         ],
         "xaxis": "x5",
         "y": [
          47,
          48,
          48,
          47,
          46,
          47,
          46,
          46,
          46,
          51,
          47,
          45,
          47,
          45,
          46,
          46,
          45
         ],
         "yaxis": "y5"
        },
        {
         "fill": "tozeroy",
         "line": {
          "color": "red",
          "width": 1
         },
         "mode": "lines",
         "name": "2020",
         "showlegend": false,
         "type": "scatter",
         "x": [
          "01/05",
          "01/12",
          "01/19",
          "01/26",
          "02/02",
          "02/09",
          "02/16",
          "02/23",
          "03/01",
          "03/08",
          "03/15",
          "03/22",
          "03/29",
          "04/05",
          "04/12",
          "04/19",
          "04/26"
         ],
         "xaxis": "x6",
         "y": [
          42,
          42,
          44,
          42,
          42,
          44,
          46,
          48,
          48,
          52,
          63,
          69,
          74,
          78,
          87,
          91,
          100
         ],
         "yaxis": "y6"
        },
        {
         "fill": "tozeroy",
         "line": {
          "color": "rgb(111, 231, 219)",
          "width": 1
         },
         "mode": "lines",
         "name": "2019",
         "showlegend": false,
         "type": "scatter",
         "x": [
          "01/05",
          "01/12",
          "01/19",
          "01/26",
          "02/02",
          "02/09",
          "02/16",
          "02/23",
          "03/01",
          "03/08",
          "03/15",
          "03/22",
          "03/29",
          "04/05",
          "04/12",
          "04/19",
          "04/26"
         ],
         "xaxis": "x6",
         "y": [
          41,
          42,
          42,
          43,
          41,
          41,
          45,
          44,
          44,
          50,
          51,
          53,
          55,
          58,
          56,
          60,
          57
         ],
         "yaxis": "y6"
        },
        {
         "fill": "tozeroy",
         "line": {
          "color": "red",
          "width": 1
         },
         "mode": "lines",
         "name": "2020",
         "showlegend": false,
         "type": "scatter",
         "x": [
          "01/05",
          "01/12",
          "01/19",
          "01/26",
          "02/02",
          "02/09",
          "02/16",
          "02/23",
          "03/01",
          "03/08",
          "03/15",
          "03/22",
          "03/29",
          "04/05",
          "04/12",
          "04/19",
          "04/26"
         ],
         "xaxis": "x7",
         "y": [
          56,
          56,
          57,
          57,
          57,
          57,
          56,
          58,
          56,
          56,
          59,
          65,
          68,
          67,
          65,
          66,
          66
         ],
         "yaxis": "y7"
        },
        {
         "fill": "tozeroy",
         "line": {
          "color": "rgb(111, 231, 219)",
          "width": 1
         },
         "mode": "lines",
         "name": "2019",
         "showlegend": false,
         "type": "scatter",
         "x": [
          "01/05",
          "01/12",
          "01/19",
          "01/26",
          "02/02",
          "02/09",
          "02/16",
          "02/23",
          "03/01",
          "03/08",
          "03/15",
          "03/22",
          "03/29",
          "04/05",
          "04/12",
          "04/19",
          "04/26"
         ],
         "xaxis": "x7",
         "y": [
          60,
          61,
          61,
          61,
          59,
          60,
          59,
          65,
          59,
          59,
          60,
          59,
          59,
          61,
          60,
          61,
          59
         ],
         "yaxis": "y7"
        },
        {
         "fill": "tozeroy",
         "line": {
          "color": "red",
          "width": 1
         },
         "mode": "lines",
         "name": "2020",
         "showlegend": false,
         "type": "scatter",
         "x": [
          "01/05",
          "01/12",
          "01/19",
          "01/26",
          "02/02",
          "02/09",
          "02/16",
          "02/23",
          "03/01",
          "03/08",
          "03/15",
          "03/22",
          "03/29",
          "04/05",
          "04/12",
          "04/19",
          "04/26"
         ],
         "xaxis": "x8",
         "y": [
          68,
          67,
          67,
          67,
          66,
          66,
          66,
          70,
          72,
          72,
          86,
          82,
          85,
          89,
          87,
          89,
          90
         ],
         "yaxis": "y8"
        },
        {
         "fill": "tozeroy",
         "line": {
          "color": "rgb(111, 231, 219)",
          "width": 1
         },
         "mode": "lines",
         "name": "2019",
         "showlegend": false,
         "type": "scatter",
         "x": [
          "01/05",
          "01/12",
          "01/19",
          "01/26",
          "02/02",
          "02/09",
          "02/16",
          "02/23",
          "03/01",
          "03/08",
          "03/15",
          "03/22",
          "03/29",
          "04/05",
          "04/12",
          "04/19",
          "04/26"
         ],
         "xaxis": "x8",
         "y": [
          63,
          62,
          60,
          59,
          58,
          60,
          59,
          60,
          61,
          59,
          59,
          58,
          59,
          59,
          61,
          60,
          60
         ],
         "yaxis": "y8"
        },
        {
         "fill": "tozeroy",
         "line": {
          "color": "red",
          "width": 1
         },
         "mode": "lines",
         "name": "2020",
         "showlegend": false,
         "type": "scatter",
         "x": [
          "01/05",
          "01/12",
          "01/19",
          "01/26",
          "02/02",
          "02/09",
          "02/16",
          "02/23",
          "03/01",
          "03/08",
          "03/15",
          "03/22",
          "03/29",
          "04/05",
          "04/12",
          "04/19",
          "04/26"
         ],
         "xaxis": "x9",
         "y": [
          56,
          55,
          52,
          55,
          56,
          58,
          58,
          60,
          59,
          60,
          68,
          72,
          80,
          76,
          76,
          77,
          75
         ],
         "yaxis": "y9"
        },
        {
         "fill": "tozeroy",
         "line": {
          "color": "rgb(111, 231, 219)",
          "width": 1
         },
         "mode": "lines",
         "name": "2019",
         "showlegend": false,
         "type": "scatter",
         "x": [
          "01/05",
          "01/12",
          "01/19",
          "01/26",
          "02/02",
          "02/09",
          "02/16",
          "02/23",
          "03/01",
          "03/08",
          "03/15",
          "03/22",
          "03/29",
          "04/05",
          "04/12",
          "04/19",
          "04/26"
         ],
         "xaxis": "x9",
         "y": [
          57,
          57,
          55,
          58,
          57,
          58,
          55,
          56,
          53,
          54,
          55,
          53,
          54,
          52,
          52,
          52,
          54
         ],
         "yaxis": "y9"
        },
        {
         "fill": "tozeroy",
         "line": {
          "color": "red",
          "width": 1
         },
         "mode": "lines",
         "name": "2020",
         "showlegend": false,
         "type": "scatter",
         "x": [
          "01/05",
          "01/12",
          "01/19",
          "01/26",
          "02/02",
          "02/09",
          "02/16",
          "02/23",
          "03/01",
          "03/08",
          "03/15",
          "03/22",
          "03/29",
          "04/05",
          "04/12",
          "04/19",
          "04/26"
         ],
         "xaxis": "x10",
         "y": [
          39,
          37,
          37,
          35,
          36,
          38,
          37,
          39,
          40,
          46,
          63,
          61,
          63,
          62,
          66,
          60,
          62
         ],
         "yaxis": "y10"
        },
        {
         "fill": "tozeroy",
         "line": {
          "color": "rgb(111, 231, 219)",
          "width": 1
         },
         "mode": "lines",
         "name": "2019",
         "showlegend": false,
         "type": "scatter",
         "x": [
          "01/05",
          "01/12",
          "01/19",
          "01/26",
          "02/02",
          "02/09",
          "02/16",
          "02/23",
          "03/01",
          "03/08",
          "03/15",
          "03/22",
          "03/29",
          "04/05",
          "04/12",
          "04/19",
          "04/26"
         ],
         "xaxis": "x10",
         "y": [
          39,
          38,
          38,
          39,
          37,
          39,
          40,
          41,
          41,
          41,
          41,
          40,
          42,
          41,
          41,
          45,
          42
         ],
         "yaxis": "y10"
        },
        {
         "fill": "tozeroy",
         "line": {
          "color": "red",
          "width": 1
         },
         "mode": "lines",
         "name": "2020",
         "showlegend": false,
         "type": "scatter",
         "x": [
          "01/05",
          "01/12",
          "01/19",
          "01/26",
          "02/02",
          "02/09",
          "02/16",
          "02/23",
          "03/01",
          "03/08",
          "03/15",
          "03/22",
          "03/29",
          "04/05",
          "04/12",
          "04/19",
          "04/26"
         ],
         "xaxis": "x11",
         "y": [
          63,
          58,
          61,
          52,
          52,
          53,
          52,
          50,
          49,
          52,
          83,
          90,
          89,
          80,
          75,
          85,
          78
         ],
         "yaxis": "y11"
        },
        {
         "fill": "tozeroy",
         "line": {
          "color": "rgb(111, 231, 219)",
          "width": 1
         },
         "mode": "lines",
         "name": "2019",
         "showlegend": false,
         "type": "scatter",
         "x": [
          "01/05",
          "01/12",
          "01/19",
          "01/26",
          "02/02",
          "02/09",
          "02/16",
          "02/23",
          "03/01",
          "03/08",
          "03/15",
          "03/22",
          "03/29",
          "04/05",
          "04/12",
          "04/19",
          "04/26"
         ],
         "xaxis": "x11",
         "y": [
          66,
          71,
          68,
          63,
          52,
          53,
          54,
          50,
          50,
          49,
          49,
          48,
          49,
          48,
          49,
          47,
          49
         ],
         "yaxis": "y11"
        },
        {
         "fill": "tozeroy",
         "line": {
          "color": "red",
          "width": 1
         },
         "mode": "lines",
         "name": "2020",
         "showlegend": false,
         "type": "scatter",
         "x": [
          "01/05",
          "01/12",
          "01/19",
          "01/26",
          "02/02",
          "02/09",
          "02/16",
          "02/23",
          "03/01",
          "03/08",
          "03/15",
          "03/22",
          "03/29",
          "04/05",
          "04/12",
          "04/19",
          "04/26"
         ],
         "xaxis": "x12",
         "y": [
          67,
          74,
          60,
          47,
          69,
          63,
          57,
          57,
          55,
          60,
          51,
          46,
          44,
          51,
          51,
          51,
          51
         ],
         "yaxis": "y12"
        },
        {
         "fill": "tozeroy",
         "line": {
          "color": "rgb(111, 231, 219)",
          "width": 1
         },
         "mode": "lines",
         "name": "2019",
         "showlegend": false,
         "type": "scatter",
         "x": [
          "01/05",
          "01/12",
          "01/19",
          "01/26",
          "02/02",
          "02/09",
          "02/16",
          "02/23",
          "03/01",
          "03/08",
          "03/15",
          "03/22",
          "03/29",
          "04/05",
          "04/12",
          "04/19",
          "04/26"
         ],
         "xaxis": "x12",
         "y": [
          65,
          85,
          77,
          100,
          80,
          87,
          84,
          76,
          79,
          65,
          51,
          50,
          56,
          64,
          68,
          55,
          60
         ],
         "yaxis": "y12"
        }
       ],
       "layout": {
        "annotations": [
         {
          "font": {
           "size": 16
          },
          "showarrow": false,
          "text": "ebay",
          "x": 0.10625,
          "xanchor": "center",
          "xref": "paper",
          "y": 1,
          "yanchor": "bottom",
          "yref": "paper"
         },
         {
          "font": {
           "size": 16
          },
          "showarrow": false,
          "text": "pornhub",
          "x": 0.36875,
          "xanchor": "center",
          "xref": "paper",
          "y": 1,
          "yanchor": "bottom",
          "yref": "paper"
         },
         {
          "font": {
           "size": 16
          },
          "showarrow": false,
          "text": "yahoo",
          "x": 0.6312500000000001,
          "xanchor": "center",
          "xref": "paper",
          "y": 1,
          "yanchor": "bottom",
          "yref": "paper"
         },
         {
          "font": {
           "size": 16
          },
          "showarrow": false,
          "text": "fox news",
          "x": 0.89375,
          "xanchor": "center",
          "xref": "paper",
          "y": 1,
          "yanchor": "bottom",
          "yref": "paper"
         },
         {
          "font": {
           "size": 16
          },
          "showarrow": false,
          "text": "facebook",
          "x": 0.10625,
          "xanchor": "center",
          "xref": "paper",
          "y": 0.6111111111111112,
          "yanchor": "bottom",
          "yref": "paper"
         },
         {
          "font": {
           "size": 16
          },
          "showarrow": false,
          "text": "home depot",
          "x": 0.36875,
          "xanchor": "center",
          "xref": "paper",
          "y": 0.6111111111111112,
          "yanchor": "bottom",
          "yref": "paper"
         },
         {
          "font": {
           "size": 16
          },
          "showarrow": false,
          "text": "youtube",
          "x": 0.6312500000000001,
          "xanchor": "center",
          "xref": "paper",
          "y": 0.6111111111111112,
          "yanchor": "bottom",
          "yref": "paper"
         },
         {
          "font": {
           "size": 16
          },
          "showarrow": false,
          "text": "amazon",
          "x": 0.89375,
          "xanchor": "center",
          "xref": "paper",
          "y": 0.6111111111111112,
          "yanchor": "bottom",
          "yref": "paper"
         },
         {
          "font": {
           "size": 16
          },
          "showarrow": false,
          "text": "gmail",
          "x": 0.10625,
          "xanchor": "center",
          "xref": "paper",
          "y": 0.22222222222222224,
          "yanchor": "bottom",
          "yref": "paper"
         },
         {
          "font": {
           "size": 16
          },
          "showarrow": false,
          "text": "walmart",
          "x": 0.36875,
          "xanchor": "center",
          "xref": "paper",
          "y": 0.22222222222222224,
          "yanchor": "bottom",
          "yref": "paper"
         },
         {
          "font": {
           "size": 16
          },
          "showarrow": false,
          "text": "netflix",
          "x": 0.6312500000000001,
          "xanchor": "center",
          "xref": "paper",
          "y": 0.22222222222222224,
          "yanchor": "bottom",
          "yref": "paper"
         },
         {
          "font": {
           "size": 16
          },
          "showarrow": false,
          "text": "weather",
          "x": 0.89375,
          "xanchor": "center",
          "xref": "paper",
          "y": 0.22222222222222224,
          "yanchor": "bottom",
          "yref": "paper"
         }
        ],
        "hovermode": "x",
        "showlegend": true,
        "template": {
         "data": {
          "bar": [
           {
            "error_x": {
             "color": "#2a3f5f"
            },
            "error_y": {
             "color": "#2a3f5f"
            },
            "marker": {
             "line": {
              "color": "#E5ECF6",
              "width": 0.5
             }
            },
            "type": "bar"
           }
          ],
          "barpolar": [
           {
            "marker": {
             "line": {
              "color": "#E5ECF6",
              "width": 0.5
             }
            },
            "type": "barpolar"
           }
          ],
          "carpet": [
           {
            "aaxis": {
             "endlinecolor": "#2a3f5f",
             "gridcolor": "white",
             "linecolor": "white",
             "minorgridcolor": "white",
             "startlinecolor": "#2a3f5f"
            },
            "baxis": {
             "endlinecolor": "#2a3f5f",
             "gridcolor": "white",
             "linecolor": "white",
             "minorgridcolor": "white",
             "startlinecolor": "#2a3f5f"
            },
            "type": "carpet"
           }
          ],
          "choropleth": [
           {
            "colorbar": {
             "outlinewidth": 0,
             "ticks": ""
            },
            "type": "choropleth"
           }
          ],
          "contour": [
           {
            "colorbar": {
             "outlinewidth": 0,
             "ticks": ""
            },
            "colorscale": [
             [
              0,
              "#0d0887"
             ],
             [
              0.1111111111111111,
              "#46039f"
             ],
             [
              0.2222222222222222,
              "#7201a8"
             ],
             [
              0.3333333333333333,
              "#9c179e"
             ],
             [
              0.4444444444444444,
              "#bd3786"
             ],
             [
              0.5555555555555556,
              "#d8576b"
             ],
             [
              0.6666666666666666,
              "#ed7953"
             ],
             [
              0.7777777777777778,
              "#fb9f3a"
             ],
             [
              0.8888888888888888,
              "#fdca26"
             ],
             [
              1,
              "#f0f921"
             ]
            ],
            "type": "contour"
           }
          ],
          "contourcarpet": [
           {
            "colorbar": {
             "outlinewidth": 0,
             "ticks": ""
            },
            "type": "contourcarpet"
           }
          ],
          "heatmap": [
           {
            "colorbar": {
             "outlinewidth": 0,
             "ticks": ""
            },
            "colorscale": [
             [
              0,
              "#0d0887"
             ],
             [
              0.1111111111111111,
              "#46039f"
             ],
             [
              0.2222222222222222,
              "#7201a8"
             ],
             [
              0.3333333333333333,
              "#9c179e"
             ],
             [
              0.4444444444444444,
              "#bd3786"
             ],
             [
              0.5555555555555556,
              "#d8576b"
             ],
             [
              0.6666666666666666,
              "#ed7953"
             ],
             [
              0.7777777777777778,
              "#fb9f3a"
             ],
             [
              0.8888888888888888,
              "#fdca26"
             ],
             [
              1,
              "#f0f921"
             ]
            ],
            "type": "heatmap"
           }
          ],
          "heatmapgl": [
           {
            "colorbar": {
             "outlinewidth": 0,
             "ticks": ""
            },
            "colorscale": [
             [
              0,
              "#0d0887"
             ],
             [
              0.1111111111111111,
              "#46039f"
             ],
             [
              0.2222222222222222,
              "#7201a8"
             ],
             [
              0.3333333333333333,
              "#9c179e"
             ],
             [
              0.4444444444444444,
              "#bd3786"
             ],
             [
              0.5555555555555556,
              "#d8576b"
             ],
             [
              0.6666666666666666,
              "#ed7953"
             ],
             [
              0.7777777777777778,
              "#fb9f3a"
             ],
             [
              0.8888888888888888,
              "#fdca26"
             ],
             [
              1,
              "#f0f921"
             ]
            ],
            "type": "heatmapgl"
           }
          ],
          "histogram": [
           {
            "marker": {
             "colorbar": {
              "outlinewidth": 0,
              "ticks": ""
             }
            },
            "type": "histogram"
           }
          ],
          "histogram2d": [
           {
            "colorbar": {
             "outlinewidth": 0,
             "ticks": ""
            },
            "colorscale": [
             [
              0,
              "#0d0887"
             ],
             [
              0.1111111111111111,
              "#46039f"
             ],
             [
              0.2222222222222222,
              "#7201a8"
             ],
             [
              0.3333333333333333,
              "#9c179e"
             ],
             [
              0.4444444444444444,
              "#bd3786"
             ],
             [
              0.5555555555555556,
              "#d8576b"
             ],
             [
              0.6666666666666666,
              "#ed7953"
             ],
             [
              0.7777777777777778,
              "#fb9f3a"
             ],
             [
              0.8888888888888888,
              "#fdca26"
             ],
             [
              1,
              "#f0f921"
             ]
            ],
            "type": "histogram2d"
           }
          ],
          "histogram2dcontour": [
           {
            "colorbar": {
             "outlinewidth": 0,
             "ticks": ""
            },
            "colorscale": [
             [
              0,
              "#0d0887"
             ],
             [
              0.1111111111111111,
              "#46039f"
             ],
             [
              0.2222222222222222,
              "#7201a8"
             ],
             [
              0.3333333333333333,
              "#9c179e"
             ],
             [
              0.4444444444444444,
              "#bd3786"
             ],
             [
              0.5555555555555556,
              "#d8576b"
             ],
             [
              0.6666666666666666,
              "#ed7953"
             ],
             [
              0.7777777777777778,
              "#fb9f3a"
             ],
             [
              0.8888888888888888,
              "#fdca26"
             ],
             [
              1,
              "#f0f921"
             ]
            ],
            "type": "histogram2dcontour"
           }
          ],
          "mesh3d": [
           {
            "colorbar": {
             "outlinewidth": 0,
             "ticks": ""
            },
            "type": "mesh3d"
           }
          ],
          "parcoords": [
           {
            "line": {
             "colorbar": {
              "outlinewidth": 0,
              "ticks": ""
             }
            },
            "type": "parcoords"
           }
          ],
          "pie": [
           {
            "automargin": true,
            "type": "pie"
           }
          ],
          "scatter": [
           {
            "marker": {
             "colorbar": {
              "outlinewidth": 0,
              "ticks": ""
             }
            },
            "type": "scatter"
           }
          ],
          "scatter3d": [
           {
            "line": {
             "colorbar": {
              "outlinewidth": 0,
              "ticks": ""
             }
            },
            "marker": {
             "colorbar": {
              "outlinewidth": 0,
              "ticks": ""
             }
            },
            "type": "scatter3d"
           }
          ],
          "scattercarpet": [
           {
            "marker": {
             "colorbar": {
              "outlinewidth": 0,
              "ticks": ""
             }
            },
            "type": "scattercarpet"
           }
          ],
          "scattergeo": [
           {
            "marker": {
             "colorbar": {
              "outlinewidth": 0,
              "ticks": ""
             }
            },
            "type": "scattergeo"
           }
          ],
          "scattergl": [
           {
            "marker": {
             "colorbar": {
              "outlinewidth": 0,
              "ticks": ""
             }
            },
            "type": "scattergl"
           }
          ],
          "scattermapbox": [
           {
            "marker": {
             "colorbar": {
              "outlinewidth": 0,
              "ticks": ""
             }
            },
            "type": "scattermapbox"
           }
          ],
          "scatterpolar": [
           {
            "marker": {
             "colorbar": {
              "outlinewidth": 0,
              "ticks": ""
             }
            },
            "type": "scatterpolar"
           }
          ],
          "scatterpolargl": [
           {
            "marker": {
             "colorbar": {
              "outlinewidth": 0,
              "ticks": ""
             }
            },
            "type": "scatterpolargl"
           }
          ],
          "scatterternary": [
           {
            "marker": {
             "colorbar": {
              "outlinewidth": 0,
              "ticks": ""
             }
            },
            "type": "scatterternary"
           }
          ],
          "surface": [
           {
            "colorbar": {
             "outlinewidth": 0,
             "ticks": ""
            },
            "colorscale": [
             [
              0,
              "#0d0887"
             ],
             [
              0.1111111111111111,
              "#46039f"
             ],
             [
              0.2222222222222222,
              "#7201a8"
             ],
             [
              0.3333333333333333,
              "#9c179e"
             ],
             [
              0.4444444444444444,
              "#bd3786"
             ],
             [
              0.5555555555555556,
              "#d8576b"
             ],
             [
              0.6666666666666666,
              "#ed7953"
             ],
             [
              0.7777777777777778,
              "#fb9f3a"
             ],
             [
              0.8888888888888888,
              "#fdca26"
             ],
             [
              1,
              "#f0f921"
             ]
            ],
            "type": "surface"
           }
          ],
          "table": [
           {
            "cells": {
             "fill": {
              "color": "#EBF0F8"
             },
             "line": {
              "color": "white"
             }
            },
            "header": {
             "fill": {
              "color": "#C8D4E3"
             },
             "line": {
              "color": "white"
             }
            },
            "type": "table"
           }
          ]
         },
         "layout": {
          "annotationdefaults": {
           "arrowcolor": "#2a3f5f",
           "arrowhead": 0,
           "arrowwidth": 1
          },
          "coloraxis": {
           "colorbar": {
            "outlinewidth": 0,
            "ticks": ""
           }
          },
          "colorscale": {
           "diverging": [
            [
             0,
             "#8e0152"
            ],
            [
             0.1,
             "#c51b7d"
            ],
            [
             0.2,
             "#de77ae"
            ],
            [
             0.3,
             "#f1b6da"
            ],
            [
             0.4,
             "#fde0ef"
            ],
            [
             0.5,
             "#f7f7f7"
            ],
            [
             0.6,
             "#e6f5d0"
            ],
            [
             0.7,
             "#b8e186"
            ],
            [
             0.8,
             "#7fbc41"
            ],
            [
             0.9,
             "#4d9221"
            ],
            [
             1,
             "#276419"
            ]
           ],
           "sequential": [
            [
             0,
             "#0d0887"
            ],
            [
             0.1111111111111111,
             "#46039f"
            ],
            [
             0.2222222222222222,
             "#7201a8"
            ],
            [
             0.3333333333333333,
             "#9c179e"
            ],
            [
             0.4444444444444444,
             "#bd3786"
            ],
            [
             0.5555555555555556,
             "#d8576b"
            ],
            [
             0.6666666666666666,
             "#ed7953"
            ],
            [
             0.7777777777777778,
             "#fb9f3a"
            ],
            [
             0.8888888888888888,
             "#fdca26"
            ],
            [
             1,
             "#f0f921"
            ]
           ],
           "sequentialminus": [
            [
             0,
             "#0d0887"
            ],
            [
             0.1111111111111111,
             "#46039f"
            ],
            [
             0.2222222222222222,
             "#7201a8"
            ],
            [
             0.3333333333333333,
             "#9c179e"
            ],
            [
             0.4444444444444444,
             "#bd3786"
            ],
            [
             0.5555555555555556,
             "#d8576b"
            ],
            [
             0.6666666666666666,
             "#ed7953"
            ],
            [
             0.7777777777777778,
             "#fb9f3a"
            ],
            [
             0.8888888888888888,
             "#fdca26"
            ],
            [
             1,
             "#f0f921"
            ]
           ]
          },
          "colorway": [
           "#636efa",
           "#EF553B",
           "#00cc96",
           "#ab63fa",
           "#FFA15A",
           "#19d3f3",
           "#FF6692",
           "#B6E880",
           "#FF97FF",
           "#FECB52"
          ],
          "font": {
           "color": "#2a3f5f"
          },
          "geo": {
           "bgcolor": "white",
           "lakecolor": "white",
           "landcolor": "#E5ECF6",
           "showlakes": true,
           "showland": true,
           "subunitcolor": "white"
          },
          "hoverlabel": {
           "align": "left"
          },
          "hovermode": "closest",
          "mapbox": {
           "style": "light"
          },
          "paper_bgcolor": "white",
          "plot_bgcolor": "#E5ECF6",
          "polar": {
           "angularaxis": {
            "gridcolor": "white",
            "linecolor": "white",
            "ticks": ""
           },
           "bgcolor": "#E5ECF6",
           "radialaxis": {
            "gridcolor": "white",
            "linecolor": "white",
            "ticks": ""
           }
          },
          "scene": {
           "xaxis": {
            "backgroundcolor": "#E5ECF6",
            "gridcolor": "white",
            "gridwidth": 2,
            "linecolor": "white",
            "showbackground": true,
            "ticks": "",
            "zerolinecolor": "white"
           },
           "yaxis": {
            "backgroundcolor": "#E5ECF6",
            "gridcolor": "white",
            "gridwidth": 2,
            "linecolor": "white",
            "showbackground": true,
            "ticks": "",
            "zerolinecolor": "white"
           },
           "zaxis": {
            "backgroundcolor": "#E5ECF6",
            "gridcolor": "white",
            "gridwidth": 2,
            "linecolor": "white",
            "showbackground": true,
            "ticks": "",
            "zerolinecolor": "white"
           }
          },
          "shapedefaults": {
           "line": {
            "color": "#2a3f5f"
           }
          },
          "ternary": {
           "aaxis": {
            "gridcolor": "white",
            "linecolor": "white",
            "ticks": ""
           },
           "baxis": {
            "gridcolor": "white",
            "linecolor": "white",
            "ticks": ""
           },
           "bgcolor": "#E5ECF6",
           "caxis": {
            "gridcolor": "white",
            "linecolor": "white",
            "ticks": ""
           }
          },
          "title": {
           "x": 0.05
          },
          "xaxis": {
           "automargin": true,
           "gridcolor": "white",
           "linecolor": "white",
           "ticks": "",
           "title": {
            "standoff": 15
           },
           "zerolinecolor": "white",
           "zerolinewidth": 2
          },
          "yaxis": {
           "automargin": true,
           "gridcolor": "white",
           "linecolor": "white",
           "ticks": "",
           "title": {
            "standoff": 15
           },
           "zerolinecolor": "white",
           "zerolinewidth": 2
          }
         }
        },
        "title": {
         "text": "Google Search Interest Overtime"
        },
        "xaxis": {
         "anchor": "y",
         "domain": [
          0,
          0.2125
         ],
         "tickangle": 45,
         "tickfont": {
          "color": "black",
          "family": "Rockwell",
          "size": 10
         }
        },
        "xaxis10": {
         "anchor": "y10",
         "domain": [
          0.2625,
          0.475
         ]
        },
        "xaxis11": {
         "anchor": "y11",
         "domain": [
          0.525,
          0.7375
         ]
        },
        "xaxis12": {
         "anchor": "y12",
         "domain": [
          0.7875,
          1
         ]
        },
        "xaxis2": {
         "anchor": "y2",
         "domain": [
          0.2625,
          0.475
         ],
         "tickangle": 45,
         "tickfont": {
          "color": "black",
          "family": "Rockwell",
          "size": 10
         }
        },
        "xaxis3": {
         "anchor": "y3",
         "domain": [
          0.525,
          0.7375
         ],
         "tickangle": 45,
         "tickfont": {
          "color": "black",
          "family": "Rockwell",
          "size": 10
         }
        },
        "xaxis4": {
         "anchor": "y4",
         "domain": [
          0.7875,
          1
         ],
         "tickangle": 45,
         "tickfont": {
          "color": "black",
          "family": "Rockwell",
          "size": 10
         }
        },
        "xaxis5": {
         "anchor": "y5",
         "domain": [
          0,
          0.2125
         ]
        },
        "xaxis6": {
         "anchor": "y6",
         "domain": [
          0.2625,
          0.475
         ]
        },
        "xaxis7": {
         "anchor": "y7",
         "domain": [
          0.525,
          0.7375
         ]
        },
        "xaxis8": {
         "anchor": "y8",
         "domain": [
          0.7875,
          1
         ]
        },
        "xaxis9": {
         "anchor": "y9",
         "domain": [
          0,
          0.2125
         ]
        },
        "yaxis": {
         "anchor": "x",
         "domain": [
          0.7777777777777778,
          1
         ]
        },
        "yaxis10": {
         "anchor": "x10",
         "domain": [
          0,
          0.22222222222222224
         ],
         "tickangle": 45,
         "tickfont": {
          "color": "black",
          "family": "Rockwell",
          "size": 10
         }
        },
        "yaxis11": {
         "anchor": "x11",
         "domain": [
          0,
          0.22222222222222224
         ],
         "tickangle": 45,
         "tickfont": {
          "color": "black",
          "family": "Rockwell",
          "size": 10
         }
        },
        "yaxis12": {
         "anchor": "x12",
         "domain": [
          0,
          0.22222222222222224
         ],
         "tickangle": 45,
         "tickfont": {
          "color": "black",
          "family": "Rockwell",
          "size": 10
         }
        },
        "yaxis2": {
         "anchor": "x2",
         "domain": [
          0.7777777777777778,
          1
         ]
        },
        "yaxis3": {
         "anchor": "x3",
         "domain": [
          0.7777777777777778,
          1
         ]
        },
        "yaxis4": {
         "anchor": "x4",
         "domain": [
          0.7777777777777778,
          1
         ]
        },
        "yaxis5": {
         "anchor": "x5",
         "domain": [
          0.3888888888888889,
          0.6111111111111112
         ],
         "tickangle": 45,
         "tickfont": {
          "color": "black",
          "family": "Rockwell",
          "size": 10
         }
        },
        "yaxis6": {
         "anchor": "x6",
         "domain": [
          0.3888888888888889,
          0.6111111111111112
         ],
         "tickangle": 45,
         "tickfont": {
          "color": "black",
          "family": "Rockwell",
          "size": 10
         }
        },
        "yaxis7": {
         "anchor": "x7",
         "domain": [
          0.3888888888888889,
          0.6111111111111112
         ],
         "tickangle": 45,
         "tickfont": {
          "color": "black",
          "family": "Rockwell",
          "size": 10
         }
        },
        "yaxis8": {
         "anchor": "x8",
         "domain": [
          0.3888888888888889,
          0.6111111111111112
         ],
         "tickangle": 45,
         "tickfont": {
          "color": "black",
          "family": "Rockwell",
          "size": 10
         }
        },
        "yaxis9": {
         "anchor": "x9",
         "domain": [
          0,
          0.22222222222222224
         ],
         "tickangle": 45,
         "tickfont": {
          "color": "black",
          "family": "Rockwell",
          "size": 10
         }
        }
       }
      },
      "text/html": [
       "<div>\n",
       "        \n",
       "        \n",
       "            <div id=\"db2ca93e-db0b-4c92-8c19-aa365507e6c8\" class=\"plotly-graph-div\" style=\"height:525px; width:100%;\"></div>\n",
       "            <script type=\"text/javascript\">\n",
       "                require([\"plotly\"], function(Plotly) {\n",
       "                    window.PLOTLYENV=window.PLOTLYENV || {};\n",
       "                    \n",
       "                if (document.getElementById(\"db2ca93e-db0b-4c92-8c19-aa365507e6c8\")) {\n",
       "                    Plotly.newPlot(\n",
       "                        'db2ca93e-db0b-4c92-8c19-aa365507e6c8',\n",
       "                        [{\"fill\": \"tozeroy\", \"legendgroup\": \"group1\", \"line\": {\"color\": \"red\", \"width\": 1}, \"mode\": \"lines\", \"name\": \"2020\", \"type\": \"scatter\", \"x\": [\"01/05\", \"01/12\", \"01/19\", \"01/26\", \"02/02\", \"02/09\", \"02/16\", \"02/23\", \"03/01\", \"03/08\", \"03/15\", \"03/22\", \"03/29\", \"04/05\", \"04/12\", \"04/19\", \"04/26\"], \"xaxis\": \"x\", \"y\": [50, 49, 49, 49, 48, 48, 50, 51, 51, 48, 46, 50, 52, 58, 61, 61, 61], \"yaxis\": \"y\"}, {\"fill\": \"tozeroy\", \"legendgroup\": \"group1\", \"line\": {\"color\": \"rgb(111, 231, 219)\", \"width\": 1}, \"mode\": \"lines\", \"name\": \"2019\", \"type\": \"scatter\", \"x\": [\"01/05\", \"01/12\", \"01/19\", \"01/26\", \"02/02\", \"02/09\", \"02/16\", \"02/23\", \"03/01\", \"03/08\", \"03/15\", \"03/22\", \"03/29\", \"04/05\", \"04/12\", \"04/19\", \"04/26\"], \"xaxis\": \"x\", \"y\": [54, 53, 53, 53, 51, 52, 53, 53, 55, 54, 54, 54, 53, 52, 54, 52, 52], \"yaxis\": \"y\"}, {\"fill\": \"tozeroy\", \"line\": {\"color\": \"red\", \"width\": 1}, \"mode\": \"lines\", \"name\": \"2020\", \"showlegend\": false, \"type\": \"scatter\", \"x\": [\"01/05\", \"01/12\", \"01/19\", \"01/26\", \"02/02\", \"02/09\", \"02/16\", \"02/23\", \"03/01\", \"03/08\", \"03/15\", \"03/22\", \"03/29\", \"04/05\", \"04/12\", \"04/19\", \"04/26\"], \"xaxis\": \"x2\", \"y\": [87, 84, 87, 86, 88, 87, 87, 83, 83, 86, 86, 93, 88, 90, 86, 85, 85], \"yaxis\": \"y2\"}, {\"fill\": \"tozeroy\", \"line\": {\"color\": \"rgb(111, 231, 219)\", \"width\": 1}, \"mode\": \"lines\", \"name\": \"2019\", \"showlegend\": false, \"type\": \"scatter\", \"x\": [\"01/05\", \"01/12\", \"01/19\", \"01/26\", \"02/02\", \"02/09\", \"02/16\", \"02/23\", \"03/01\", \"03/08\", \"03/15\", \"03/22\", \"03/29\", \"04/05\", \"04/12\", \"04/19\", \"04/26\"], \"xaxis\": \"x2\", \"y\": [75, 73, 74, 75, 71, 76, 75, 73, 74, 77, 78, 78, 76, 78, 82, 80, 77], \"yaxis\": \"y2\"}, {\"fill\": \"tozeroy\", \"line\": {\"color\": \"red\", \"width\": 1}, \"mode\": \"lines\", \"name\": \"2020\", \"showlegend\": false, \"type\": \"scatter\", \"x\": [\"01/05\", \"01/12\", \"01/19\", \"01/26\", \"02/02\", \"02/09\", \"02/16\", \"02/23\", \"03/01\", \"03/08\", \"03/15\", \"03/22\", \"03/29\", \"04/05\", \"04/12\", \"04/19\", \"04/26\"], \"xaxis\": \"x3\", \"y\": [51, 48, 50, 53, 51, 50, 49, 52, 52, 57, 61, 59, 57, 57, 56, 57, 57], \"yaxis\": \"y3\"}, {\"fill\": \"tozeroy\", \"line\": {\"color\": \"rgb(111, 231, 219)\", \"width\": 1}, \"mode\": \"lines\", \"name\": \"2019\", \"showlegend\": false, \"type\": \"scatter\", \"x\": [\"01/05\", \"01/12\", \"01/19\", \"01/26\", \"02/02\", \"02/09\", \"02/16\", \"02/23\", \"03/01\", \"03/08\", \"03/15\", \"03/22\", \"03/29\", \"04/05\", \"04/12\", \"04/19\", \"04/26\"], \"xaxis\": \"x3\", \"y\": [51, 49, 49, 50, 49, 48, 48, 47, 47, 48, 50, 48, 47, 47, 46, 48, 48], \"yaxis\": \"y3\"}, {\"fill\": \"tozeroy\", \"line\": {\"color\": \"red\", \"width\": 1}, \"mode\": \"lines\", \"name\": \"2020\", \"showlegend\": false, \"type\": \"scatter\", \"x\": [\"01/05\", \"01/12\", \"01/19\", \"01/26\", \"02/02\", \"02/09\", \"02/16\", \"02/23\", \"03/01\", \"03/08\", \"03/15\", \"03/22\", \"03/29\", \"04/05\", \"04/12\", \"04/19\", \"04/26\"], \"xaxis\": \"x4\", \"y\": [50, 37, 41, 48, 51, 40, 37, 39, 43, 57, 74, 68, 56, 48, 46, 43, 40], \"yaxis\": \"y4\"}, {\"fill\": \"tozeroy\", \"line\": {\"color\": \"rgb(111, 231, 219)\", \"width\": 1}, \"mode\": \"lines\", \"name\": \"2019\", \"showlegend\": false, \"type\": \"scatter\", \"x\": [\"01/05\", \"01/12\", \"01/19\", \"01/26\", \"02/02\", \"02/09\", \"02/16\", \"02/23\", \"03/01\", \"03/08\", \"03/15\", \"03/22\", \"03/29\", \"04/05\", \"04/12\", \"04/19\", \"04/26\"], \"xaxis\": \"x4\", \"y\": [35, 35, 38, 34, 32, 34, 32, 32, 31, 31, 34, 34, 31, 30, 36, 31, 30], \"yaxis\": \"y4\"}, {\"fill\": \"tozeroy\", \"line\": {\"color\": \"red\", \"width\": 1}, \"mode\": \"lines\", \"name\": \"2020\", \"showlegend\": false, \"type\": \"scatter\", \"x\": [\"01/05\", \"01/12\", \"01/19\", \"01/26\", \"02/02\", \"02/09\", \"02/16\", \"02/23\", \"03/01\", \"03/08\", \"03/15\", \"03/22\", \"03/29\", \"04/05\", \"04/12\", \"04/19\", \"04/26\"], \"xaxis\": \"x5\", \"y\": [41, 41, 41, 40, 40, 40, 41, 39, 38, 41, 46, 48, 46, 46, 43, 42, 42], \"yaxis\": \"y5\"}, {\"fill\": \"tozeroy\", \"line\": {\"color\": \"rgb(111, 231, 219)\", \"width\": 1}, \"mode\": \"lines\", \"name\": \"2019\", \"showlegend\": false, \"type\": \"scatter\", \"x\": [\"01/05\", \"01/12\", \"01/19\", \"01/26\", \"02/02\", \"02/09\", \"02/16\", \"02/23\", \"03/01\", \"03/08\", \"03/15\", \"03/22\", \"03/29\", \"04/05\", \"04/12\", \"04/19\", \"04/26\"], \"xaxis\": \"x5\", \"y\": [47, 48, 48, 47, 46, 47, 46, 46, 46, 51, 47, 45, 47, 45, 46, 46, 45], \"yaxis\": \"y5\"}, {\"fill\": \"tozeroy\", \"line\": {\"color\": \"red\", \"width\": 1}, \"mode\": \"lines\", \"name\": \"2020\", \"showlegend\": false, \"type\": \"scatter\", \"x\": [\"01/05\", \"01/12\", \"01/19\", \"01/26\", \"02/02\", \"02/09\", \"02/16\", \"02/23\", \"03/01\", \"03/08\", \"03/15\", \"03/22\", \"03/29\", \"04/05\", \"04/12\", \"04/19\", \"04/26\"], \"xaxis\": \"x6\", \"y\": [42, 42, 44, 42, 42, 44, 46, 48, 48, 52, 63, 69, 74, 78, 87, 91, 100], \"yaxis\": \"y6\"}, {\"fill\": \"tozeroy\", \"line\": {\"color\": \"rgb(111, 231, 219)\", \"width\": 1}, \"mode\": \"lines\", \"name\": \"2019\", \"showlegend\": false, \"type\": \"scatter\", \"x\": [\"01/05\", \"01/12\", \"01/19\", \"01/26\", \"02/02\", \"02/09\", \"02/16\", \"02/23\", \"03/01\", \"03/08\", \"03/15\", \"03/22\", \"03/29\", \"04/05\", \"04/12\", \"04/19\", \"04/26\"], \"xaxis\": \"x6\", \"y\": [41, 42, 42, 43, 41, 41, 45, 44, 44, 50, 51, 53, 55, 58, 56, 60, 57], \"yaxis\": \"y6\"}, {\"fill\": \"tozeroy\", \"line\": {\"color\": \"red\", \"width\": 1}, \"mode\": \"lines\", \"name\": \"2020\", \"showlegend\": false, \"type\": \"scatter\", \"x\": [\"01/05\", \"01/12\", \"01/19\", \"01/26\", \"02/02\", \"02/09\", \"02/16\", \"02/23\", \"03/01\", \"03/08\", \"03/15\", \"03/22\", \"03/29\", \"04/05\", \"04/12\", \"04/19\", \"04/26\"], \"xaxis\": \"x7\", \"y\": [56, 56, 57, 57, 57, 57, 56, 58, 56, 56, 59, 65, 68, 67, 65, 66, 66], \"yaxis\": \"y7\"}, {\"fill\": \"tozeroy\", \"line\": {\"color\": \"rgb(111, 231, 219)\", \"width\": 1}, \"mode\": \"lines\", \"name\": \"2019\", \"showlegend\": false, \"type\": \"scatter\", \"x\": [\"01/05\", \"01/12\", \"01/19\", \"01/26\", \"02/02\", \"02/09\", \"02/16\", \"02/23\", \"03/01\", \"03/08\", \"03/15\", \"03/22\", \"03/29\", \"04/05\", \"04/12\", \"04/19\", \"04/26\"], \"xaxis\": \"x7\", \"y\": [60, 61, 61, 61, 59, 60, 59, 65, 59, 59, 60, 59, 59, 61, 60, 61, 59], \"yaxis\": \"y7\"}, {\"fill\": \"tozeroy\", \"line\": {\"color\": \"red\", \"width\": 1}, \"mode\": \"lines\", \"name\": \"2020\", \"showlegend\": false, \"type\": \"scatter\", \"x\": [\"01/05\", \"01/12\", \"01/19\", \"01/26\", \"02/02\", \"02/09\", \"02/16\", \"02/23\", \"03/01\", \"03/08\", \"03/15\", \"03/22\", \"03/29\", \"04/05\", \"04/12\", \"04/19\", \"04/26\"], \"xaxis\": \"x8\", \"y\": [68, 67, 67, 67, 66, 66, 66, 70, 72, 72, 86, 82, 85, 89, 87, 89, 90], \"yaxis\": \"y8\"}, {\"fill\": \"tozeroy\", \"line\": {\"color\": \"rgb(111, 231, 219)\", \"width\": 1}, \"mode\": \"lines\", \"name\": \"2019\", \"showlegend\": false, \"type\": \"scatter\", \"x\": [\"01/05\", \"01/12\", \"01/19\", \"01/26\", \"02/02\", \"02/09\", \"02/16\", \"02/23\", \"03/01\", \"03/08\", \"03/15\", \"03/22\", \"03/29\", \"04/05\", \"04/12\", \"04/19\", \"04/26\"], \"xaxis\": \"x8\", \"y\": [63, 62, 60, 59, 58, 60, 59, 60, 61, 59, 59, 58, 59, 59, 61, 60, 60], \"yaxis\": \"y8\"}, {\"fill\": \"tozeroy\", \"line\": {\"color\": \"red\", \"width\": 1}, \"mode\": \"lines\", \"name\": \"2020\", \"showlegend\": false, \"type\": \"scatter\", \"x\": [\"01/05\", \"01/12\", \"01/19\", \"01/26\", \"02/02\", \"02/09\", \"02/16\", \"02/23\", \"03/01\", \"03/08\", \"03/15\", \"03/22\", \"03/29\", \"04/05\", \"04/12\", \"04/19\", \"04/26\"], \"xaxis\": \"x9\", \"y\": [56, 55, 52, 55, 56, 58, 58, 60, 59, 60, 68, 72, 80, 76, 76, 77, 75], \"yaxis\": \"y9\"}, {\"fill\": \"tozeroy\", \"line\": {\"color\": \"rgb(111, 231, 219)\", \"width\": 1}, \"mode\": \"lines\", \"name\": \"2019\", \"showlegend\": false, \"type\": \"scatter\", \"x\": [\"01/05\", \"01/12\", \"01/19\", \"01/26\", \"02/02\", \"02/09\", \"02/16\", \"02/23\", \"03/01\", \"03/08\", \"03/15\", \"03/22\", \"03/29\", \"04/05\", \"04/12\", \"04/19\", \"04/26\"], \"xaxis\": \"x9\", \"y\": [57, 57, 55, 58, 57, 58, 55, 56, 53, 54, 55, 53, 54, 52, 52, 52, 54], \"yaxis\": \"y9\"}, {\"fill\": \"tozeroy\", \"line\": {\"color\": \"red\", \"width\": 1}, \"mode\": \"lines\", \"name\": \"2020\", \"showlegend\": false, \"type\": \"scatter\", \"x\": [\"01/05\", \"01/12\", \"01/19\", \"01/26\", \"02/02\", \"02/09\", \"02/16\", \"02/23\", \"03/01\", \"03/08\", \"03/15\", \"03/22\", \"03/29\", \"04/05\", \"04/12\", \"04/19\", \"04/26\"], \"xaxis\": \"x10\", \"y\": [39, 37, 37, 35, 36, 38, 37, 39, 40, 46, 63, 61, 63, 62, 66, 60, 62], \"yaxis\": \"y10\"}, {\"fill\": \"tozeroy\", \"line\": {\"color\": \"rgb(111, 231, 219)\", \"width\": 1}, \"mode\": \"lines\", \"name\": \"2019\", \"showlegend\": false, \"type\": \"scatter\", \"x\": [\"01/05\", \"01/12\", \"01/19\", \"01/26\", \"02/02\", \"02/09\", \"02/16\", \"02/23\", \"03/01\", \"03/08\", \"03/15\", \"03/22\", \"03/29\", \"04/05\", \"04/12\", \"04/19\", \"04/26\"], \"xaxis\": \"x10\", \"y\": [39, 38, 38, 39, 37, 39, 40, 41, 41, 41, 41, 40, 42, 41, 41, 45, 42], \"yaxis\": \"y10\"}, {\"fill\": \"tozeroy\", \"line\": {\"color\": \"red\", \"width\": 1}, \"mode\": \"lines\", \"name\": \"2020\", \"showlegend\": false, \"type\": \"scatter\", \"x\": [\"01/05\", \"01/12\", \"01/19\", \"01/26\", \"02/02\", \"02/09\", \"02/16\", \"02/23\", \"03/01\", \"03/08\", \"03/15\", \"03/22\", \"03/29\", \"04/05\", \"04/12\", \"04/19\", \"04/26\"], \"xaxis\": \"x11\", \"y\": [63, 58, 61, 52, 52, 53, 52, 50, 49, 52, 83, 90, 89, 80, 75, 85, 78], \"yaxis\": \"y11\"}, {\"fill\": \"tozeroy\", \"line\": {\"color\": \"rgb(111, 231, 219)\", \"width\": 1}, \"mode\": \"lines\", \"name\": \"2019\", \"showlegend\": false, \"type\": \"scatter\", \"x\": [\"01/05\", \"01/12\", \"01/19\", \"01/26\", \"02/02\", \"02/09\", \"02/16\", \"02/23\", \"03/01\", \"03/08\", \"03/15\", \"03/22\", \"03/29\", \"04/05\", \"04/12\", \"04/19\", \"04/26\"], \"xaxis\": \"x11\", \"y\": [66, 71, 68, 63, 52, 53, 54, 50, 50, 49, 49, 48, 49, 48, 49, 47, 49], \"yaxis\": \"y11\"}, {\"fill\": \"tozeroy\", \"line\": {\"color\": \"red\", \"width\": 1}, \"mode\": \"lines\", \"name\": \"2020\", \"showlegend\": false, \"type\": \"scatter\", \"x\": [\"01/05\", \"01/12\", \"01/19\", \"01/26\", \"02/02\", \"02/09\", \"02/16\", \"02/23\", \"03/01\", \"03/08\", \"03/15\", \"03/22\", \"03/29\", \"04/05\", \"04/12\", \"04/19\", \"04/26\"], \"xaxis\": \"x12\", \"y\": [67, 74, 60, 47, 69, 63, 57, 57, 55, 60, 51, 46, 44, 51, 51, 51, 51], \"yaxis\": \"y12\"}, {\"fill\": \"tozeroy\", \"line\": {\"color\": \"rgb(111, 231, 219)\", \"width\": 1}, \"mode\": \"lines\", \"name\": \"2019\", \"showlegend\": false, \"type\": \"scatter\", \"x\": [\"01/05\", \"01/12\", \"01/19\", \"01/26\", \"02/02\", \"02/09\", \"02/16\", \"02/23\", \"03/01\", \"03/08\", \"03/15\", \"03/22\", \"03/29\", \"04/05\", \"04/12\", \"04/19\", \"04/26\"], \"xaxis\": \"x12\", \"y\": [65, 85, 77, 100, 80, 87, 84, 76, 79, 65, 51, 50, 56, 64, 68, 55, 60], \"yaxis\": \"y12\"}],\n",
       "                        {\"annotations\": [{\"font\": {\"size\": 16}, \"showarrow\": false, \"text\": \"ebay\", \"x\": 0.10625, \"xanchor\": \"center\", \"xref\": \"paper\", \"y\": 1.0, \"yanchor\": \"bottom\", \"yref\": \"paper\"}, {\"font\": {\"size\": 16}, \"showarrow\": false, \"text\": \"pornhub\", \"x\": 0.36875, \"xanchor\": \"center\", \"xref\": \"paper\", \"y\": 1.0, \"yanchor\": \"bottom\", \"yref\": \"paper\"}, {\"font\": {\"size\": 16}, \"showarrow\": false, \"text\": \"yahoo\", \"x\": 0.6312500000000001, \"xanchor\": \"center\", \"xref\": \"paper\", \"y\": 1.0, \"yanchor\": \"bottom\", \"yref\": \"paper\"}, {\"font\": {\"size\": 16}, \"showarrow\": false, \"text\": \"fox news\", \"x\": 0.89375, \"xanchor\": \"center\", \"xref\": \"paper\", \"y\": 1.0, \"yanchor\": \"bottom\", \"yref\": \"paper\"}, {\"font\": {\"size\": 16}, \"showarrow\": false, \"text\": \"facebook\", \"x\": 0.10625, \"xanchor\": \"center\", \"xref\": \"paper\", \"y\": 0.6111111111111112, \"yanchor\": \"bottom\", \"yref\": \"paper\"}, {\"font\": {\"size\": 16}, \"showarrow\": false, \"text\": \"home depot\", \"x\": 0.36875, \"xanchor\": \"center\", \"xref\": \"paper\", \"y\": 0.6111111111111112, \"yanchor\": \"bottom\", \"yref\": \"paper\"}, {\"font\": {\"size\": 16}, \"showarrow\": false, \"text\": \"youtube\", \"x\": 0.6312500000000001, \"xanchor\": \"center\", \"xref\": \"paper\", \"y\": 0.6111111111111112, \"yanchor\": \"bottom\", \"yref\": \"paper\"}, {\"font\": {\"size\": 16}, \"showarrow\": false, \"text\": \"amazon\", \"x\": 0.89375, \"xanchor\": \"center\", \"xref\": \"paper\", \"y\": 0.6111111111111112, \"yanchor\": \"bottom\", \"yref\": \"paper\"}, {\"font\": {\"size\": 16}, \"showarrow\": false, \"text\": \"gmail\", \"x\": 0.10625, \"xanchor\": \"center\", \"xref\": \"paper\", \"y\": 0.22222222222222224, \"yanchor\": \"bottom\", \"yref\": \"paper\"}, {\"font\": {\"size\": 16}, \"showarrow\": false, \"text\": \"walmart\", \"x\": 0.36875, \"xanchor\": \"center\", \"xref\": \"paper\", \"y\": 0.22222222222222224, \"yanchor\": \"bottom\", \"yref\": \"paper\"}, {\"font\": {\"size\": 16}, \"showarrow\": false, \"text\": \"netflix\", \"x\": 0.6312500000000001, \"xanchor\": \"center\", \"xref\": \"paper\", \"y\": 0.22222222222222224, \"yanchor\": \"bottom\", \"yref\": \"paper\"}, {\"font\": {\"size\": 16}, \"showarrow\": false, \"text\": \"weather\", \"x\": 0.89375, \"xanchor\": \"center\", \"xref\": \"paper\", \"y\": 0.22222222222222224, \"yanchor\": \"bottom\", \"yref\": \"paper\"}], \"hovermode\": \"x\", \"showlegend\": true, \"template\": {\"data\": {\"bar\": [{\"error_x\": {\"color\": \"#2a3f5f\"}, \"error_y\": {\"color\": \"#2a3f5f\"}, \"marker\": {\"line\": {\"color\": \"#E5ECF6\", \"width\": 0.5}}, \"type\": \"bar\"}], \"barpolar\": [{\"marker\": {\"line\": {\"color\": \"#E5ECF6\", \"width\": 0.5}}, \"type\": \"barpolar\"}], \"carpet\": [{\"aaxis\": {\"endlinecolor\": \"#2a3f5f\", \"gridcolor\": \"white\", \"linecolor\": \"white\", \"minorgridcolor\": \"white\", \"startlinecolor\": \"#2a3f5f\"}, \"baxis\": {\"endlinecolor\": \"#2a3f5f\", \"gridcolor\": \"white\", \"linecolor\": \"white\", \"minorgridcolor\": \"white\", \"startlinecolor\": \"#2a3f5f\"}, \"type\": \"carpet\"}], \"choropleth\": [{\"colorbar\": {\"outlinewidth\": 0, \"ticks\": \"\"}, \"type\": \"choropleth\"}], \"contour\": [{\"colorbar\": {\"outlinewidth\": 0, \"ticks\": \"\"}, \"colorscale\": [[0.0, \"#0d0887\"], [0.1111111111111111, \"#46039f\"], [0.2222222222222222, \"#7201a8\"], [0.3333333333333333, \"#9c179e\"], [0.4444444444444444, \"#bd3786\"], [0.5555555555555556, \"#d8576b\"], [0.6666666666666666, \"#ed7953\"], [0.7777777777777778, \"#fb9f3a\"], [0.8888888888888888, \"#fdca26\"], [1.0, \"#f0f921\"]], \"type\": \"contour\"}], \"contourcarpet\": [{\"colorbar\": {\"outlinewidth\": 0, \"ticks\": \"\"}, \"type\": \"contourcarpet\"}], \"heatmap\": [{\"colorbar\": {\"outlinewidth\": 0, \"ticks\": \"\"}, \"colorscale\": [[0.0, \"#0d0887\"], [0.1111111111111111, \"#46039f\"], [0.2222222222222222, \"#7201a8\"], [0.3333333333333333, \"#9c179e\"], [0.4444444444444444, \"#bd3786\"], [0.5555555555555556, \"#d8576b\"], [0.6666666666666666, \"#ed7953\"], [0.7777777777777778, \"#fb9f3a\"], [0.8888888888888888, \"#fdca26\"], [1.0, \"#f0f921\"]], \"type\": \"heatmap\"}], \"heatmapgl\": [{\"colorbar\": {\"outlinewidth\": 0, \"ticks\": \"\"}, \"colorscale\": [[0.0, \"#0d0887\"], [0.1111111111111111, \"#46039f\"], [0.2222222222222222, \"#7201a8\"], [0.3333333333333333, \"#9c179e\"], [0.4444444444444444, \"#bd3786\"], [0.5555555555555556, \"#d8576b\"], [0.6666666666666666, \"#ed7953\"], [0.7777777777777778, \"#fb9f3a\"], [0.8888888888888888, \"#fdca26\"], [1.0, \"#f0f921\"]], \"type\": \"heatmapgl\"}], \"histogram\": [{\"marker\": {\"colorbar\": {\"outlinewidth\": 0, \"ticks\": \"\"}}, \"type\": \"histogram\"}], \"histogram2d\": [{\"colorbar\": {\"outlinewidth\": 0, \"ticks\": \"\"}, \"colorscale\": [[0.0, \"#0d0887\"], [0.1111111111111111, \"#46039f\"], [0.2222222222222222, \"#7201a8\"], [0.3333333333333333, \"#9c179e\"], [0.4444444444444444, \"#bd3786\"], [0.5555555555555556, \"#d8576b\"], [0.6666666666666666, \"#ed7953\"], [0.7777777777777778, \"#fb9f3a\"], [0.8888888888888888, \"#fdca26\"], [1.0, \"#f0f921\"]], \"type\": \"histogram2d\"}], \"histogram2dcontour\": [{\"colorbar\": {\"outlinewidth\": 0, \"ticks\": \"\"}, \"colorscale\": [[0.0, \"#0d0887\"], [0.1111111111111111, \"#46039f\"], [0.2222222222222222, \"#7201a8\"], [0.3333333333333333, \"#9c179e\"], [0.4444444444444444, \"#bd3786\"], [0.5555555555555556, \"#d8576b\"], [0.6666666666666666, \"#ed7953\"], [0.7777777777777778, \"#fb9f3a\"], [0.8888888888888888, \"#fdca26\"], [1.0, \"#f0f921\"]], \"type\": \"histogram2dcontour\"}], \"mesh3d\": [{\"colorbar\": {\"outlinewidth\": 0, \"ticks\": \"\"}, \"type\": \"mesh3d\"}], \"parcoords\": [{\"line\": {\"colorbar\": {\"outlinewidth\": 0, \"ticks\": \"\"}}, \"type\": \"parcoords\"}], \"pie\": [{\"automargin\": true, \"type\": \"pie\"}], \"scatter\": [{\"marker\": {\"colorbar\": {\"outlinewidth\": 0, \"ticks\": \"\"}}, \"type\": \"scatter\"}], \"scatter3d\": [{\"line\": {\"colorbar\": {\"outlinewidth\": 0, \"ticks\": \"\"}}, \"marker\": {\"colorbar\": {\"outlinewidth\": 0, \"ticks\": \"\"}}, \"type\": \"scatter3d\"}], \"scattercarpet\": [{\"marker\": {\"colorbar\": {\"outlinewidth\": 0, \"ticks\": \"\"}}, \"type\": \"scattercarpet\"}], \"scattergeo\": [{\"marker\": {\"colorbar\": {\"outlinewidth\": 0, \"ticks\": \"\"}}, \"type\": \"scattergeo\"}], \"scattergl\": [{\"marker\": {\"colorbar\": {\"outlinewidth\": 0, \"ticks\": \"\"}}, \"type\": \"scattergl\"}], \"scattermapbox\": [{\"marker\": {\"colorbar\": {\"outlinewidth\": 0, \"ticks\": \"\"}}, \"type\": \"scattermapbox\"}], \"scatterpolar\": [{\"marker\": {\"colorbar\": {\"outlinewidth\": 0, \"ticks\": \"\"}}, \"type\": \"scatterpolar\"}], \"scatterpolargl\": [{\"marker\": {\"colorbar\": {\"outlinewidth\": 0, \"ticks\": \"\"}}, \"type\": \"scatterpolargl\"}], \"scatterternary\": [{\"marker\": {\"colorbar\": {\"outlinewidth\": 0, \"ticks\": \"\"}}, \"type\": \"scatterternary\"}], \"surface\": [{\"colorbar\": {\"outlinewidth\": 0, \"ticks\": \"\"}, \"colorscale\": [[0.0, \"#0d0887\"], [0.1111111111111111, \"#46039f\"], [0.2222222222222222, \"#7201a8\"], [0.3333333333333333, \"#9c179e\"], [0.4444444444444444, \"#bd3786\"], [0.5555555555555556, \"#d8576b\"], [0.6666666666666666, \"#ed7953\"], [0.7777777777777778, \"#fb9f3a\"], [0.8888888888888888, \"#fdca26\"], [1.0, \"#f0f921\"]], \"type\": \"surface\"}], \"table\": [{\"cells\": {\"fill\": {\"color\": \"#EBF0F8\"}, \"line\": {\"color\": \"white\"}}, \"header\": {\"fill\": {\"color\": \"#C8D4E3\"}, \"line\": {\"color\": \"white\"}}, \"type\": \"table\"}]}, \"layout\": {\"annotationdefaults\": {\"arrowcolor\": \"#2a3f5f\", \"arrowhead\": 0, \"arrowwidth\": 1}, \"coloraxis\": {\"colorbar\": {\"outlinewidth\": 0, \"ticks\": \"\"}}, \"colorscale\": {\"diverging\": [[0, \"#8e0152\"], [0.1, \"#c51b7d\"], [0.2, \"#de77ae\"], [0.3, \"#f1b6da\"], [0.4, \"#fde0ef\"], [0.5, \"#f7f7f7\"], [0.6, \"#e6f5d0\"], [0.7, \"#b8e186\"], [0.8, \"#7fbc41\"], [0.9, \"#4d9221\"], [1, \"#276419\"]], \"sequential\": [[0.0, \"#0d0887\"], [0.1111111111111111, \"#46039f\"], [0.2222222222222222, \"#7201a8\"], [0.3333333333333333, \"#9c179e\"], [0.4444444444444444, \"#bd3786\"], [0.5555555555555556, \"#d8576b\"], [0.6666666666666666, \"#ed7953\"], [0.7777777777777778, \"#fb9f3a\"], [0.8888888888888888, \"#fdca26\"], [1.0, \"#f0f921\"]], \"sequentialminus\": [[0.0, \"#0d0887\"], [0.1111111111111111, \"#46039f\"], [0.2222222222222222, \"#7201a8\"], [0.3333333333333333, \"#9c179e\"], [0.4444444444444444, \"#bd3786\"], [0.5555555555555556, \"#d8576b\"], [0.6666666666666666, \"#ed7953\"], [0.7777777777777778, \"#fb9f3a\"], [0.8888888888888888, \"#fdca26\"], [1.0, \"#f0f921\"]]}, \"colorway\": [\"#636efa\", \"#EF553B\", \"#00cc96\", \"#ab63fa\", \"#FFA15A\", \"#19d3f3\", \"#FF6692\", \"#B6E880\", \"#FF97FF\", \"#FECB52\"], \"font\": {\"color\": \"#2a3f5f\"}, \"geo\": {\"bgcolor\": \"white\", \"lakecolor\": \"white\", \"landcolor\": \"#E5ECF6\", \"showlakes\": true, \"showland\": true, \"subunitcolor\": \"white\"}, \"hoverlabel\": {\"align\": \"left\"}, \"hovermode\": \"closest\", \"mapbox\": {\"style\": \"light\"}, \"paper_bgcolor\": \"white\", \"plot_bgcolor\": \"#E5ECF6\", \"polar\": {\"angularaxis\": {\"gridcolor\": \"white\", \"linecolor\": \"white\", \"ticks\": \"\"}, \"bgcolor\": \"#E5ECF6\", \"radialaxis\": {\"gridcolor\": \"white\", \"linecolor\": \"white\", \"ticks\": \"\"}}, \"scene\": {\"xaxis\": {\"backgroundcolor\": \"#E5ECF6\", \"gridcolor\": \"white\", \"gridwidth\": 2, \"linecolor\": \"white\", \"showbackground\": true, \"ticks\": \"\", \"zerolinecolor\": \"white\"}, \"yaxis\": {\"backgroundcolor\": \"#E5ECF6\", \"gridcolor\": \"white\", \"gridwidth\": 2, \"linecolor\": \"white\", \"showbackground\": true, \"ticks\": \"\", \"zerolinecolor\": \"white\"}, \"zaxis\": {\"backgroundcolor\": \"#E5ECF6\", \"gridcolor\": \"white\", \"gridwidth\": 2, \"linecolor\": \"white\", \"showbackground\": true, \"ticks\": \"\", \"zerolinecolor\": \"white\"}}, \"shapedefaults\": {\"line\": {\"color\": \"#2a3f5f\"}}, \"ternary\": {\"aaxis\": {\"gridcolor\": \"white\", \"linecolor\": \"white\", \"ticks\": \"\"}, \"baxis\": {\"gridcolor\": \"white\", \"linecolor\": \"white\", \"ticks\": \"\"}, \"bgcolor\": \"#E5ECF6\", \"caxis\": {\"gridcolor\": \"white\", \"linecolor\": \"white\", \"ticks\": \"\"}}, \"title\": {\"x\": 0.05}, \"xaxis\": {\"automargin\": true, \"gridcolor\": \"white\", \"linecolor\": \"white\", \"ticks\": \"\", \"title\": {\"standoff\": 15}, \"zerolinecolor\": \"white\", \"zerolinewidth\": 2}, \"yaxis\": {\"automargin\": true, \"gridcolor\": \"white\", \"linecolor\": \"white\", \"ticks\": \"\", \"title\": {\"standoff\": 15}, \"zerolinecolor\": \"white\", \"zerolinewidth\": 2}}}, \"title\": {\"text\": \"Google Search Interest Overtime\"}, \"xaxis\": {\"anchor\": \"y\", \"domain\": [0.0, 0.2125], \"tickangle\": 45, \"tickfont\": {\"color\": \"black\", \"family\": \"Rockwell\", \"size\": 10}}, \"xaxis10\": {\"anchor\": \"y10\", \"domain\": [0.2625, 0.475]}, \"xaxis11\": {\"anchor\": \"y11\", \"domain\": [0.525, 0.7375]}, \"xaxis12\": {\"anchor\": \"y12\", \"domain\": [0.7875, 1.0]}, \"xaxis2\": {\"anchor\": \"y2\", \"domain\": [0.2625, 0.475], \"tickangle\": 45, \"tickfont\": {\"color\": \"black\", \"family\": \"Rockwell\", \"size\": 10}}, \"xaxis3\": {\"anchor\": \"y3\", \"domain\": [0.525, 0.7375], \"tickangle\": 45, \"tickfont\": {\"color\": \"black\", \"family\": \"Rockwell\", \"size\": 10}}, \"xaxis4\": {\"anchor\": \"y4\", \"domain\": [0.7875, 1.0], \"tickangle\": 45, \"tickfont\": {\"color\": \"black\", \"family\": \"Rockwell\", \"size\": 10}}, \"xaxis5\": {\"anchor\": \"y5\", \"domain\": [0.0, 0.2125]}, \"xaxis6\": {\"anchor\": \"y6\", \"domain\": [0.2625, 0.475]}, \"xaxis7\": {\"anchor\": \"y7\", \"domain\": [0.525, 0.7375]}, \"xaxis8\": {\"anchor\": \"y8\", \"domain\": [0.7875, 1.0]}, \"xaxis9\": {\"anchor\": \"y9\", \"domain\": [0.0, 0.2125]}, \"yaxis\": {\"anchor\": \"x\", \"domain\": [0.7777777777777778, 1.0]}, \"yaxis10\": {\"anchor\": \"x10\", \"domain\": [0.0, 0.22222222222222224], \"tickangle\": 45, \"tickfont\": {\"color\": \"black\", \"family\": \"Rockwell\", \"size\": 10}}, \"yaxis11\": {\"anchor\": \"x11\", \"domain\": [0.0, 0.22222222222222224], \"tickangle\": 45, \"tickfont\": {\"color\": \"black\", \"family\": \"Rockwell\", \"size\": 10}}, \"yaxis12\": {\"anchor\": \"x12\", \"domain\": [0.0, 0.22222222222222224], \"tickangle\": 45, \"tickfont\": {\"color\": \"black\", \"family\": \"Rockwell\", \"size\": 10}}, \"yaxis2\": {\"anchor\": \"x2\", \"domain\": [0.7777777777777778, 1.0]}, \"yaxis3\": {\"anchor\": \"x3\", \"domain\": [0.7777777777777778, 1.0]}, \"yaxis4\": {\"anchor\": \"x4\", \"domain\": [0.7777777777777778, 1.0]}, \"yaxis5\": {\"anchor\": \"x5\", \"domain\": [0.3888888888888889, 0.6111111111111112], \"tickangle\": 45, \"tickfont\": {\"color\": \"black\", \"family\": \"Rockwell\", \"size\": 10}}, \"yaxis6\": {\"anchor\": \"x6\", \"domain\": [0.3888888888888889, 0.6111111111111112], \"tickangle\": 45, \"tickfont\": {\"color\": \"black\", \"family\": \"Rockwell\", \"size\": 10}}, \"yaxis7\": {\"anchor\": \"x7\", \"domain\": [0.3888888888888889, 0.6111111111111112], \"tickangle\": 45, \"tickfont\": {\"color\": \"black\", \"family\": \"Rockwell\", \"size\": 10}}, \"yaxis8\": {\"anchor\": \"x8\", \"domain\": [0.3888888888888889, 0.6111111111111112], \"tickangle\": 45, \"tickfont\": {\"color\": \"black\", \"family\": \"Rockwell\", \"size\": 10}}, \"yaxis9\": {\"anchor\": \"x9\", \"domain\": [0.0, 0.22222222222222224], \"tickangle\": 45, \"tickfont\": {\"color\": \"black\", \"family\": \"Rockwell\", \"size\": 10}}},\n",
       "                        {\"responsive\": true}\n",
       "                    ).then(function(){\n",
       "                            \n",
       "var gd = document.getElementById('db2ca93e-db0b-4c92-8c19-aa365507e6c8');\n",
       "var x = new MutationObserver(function (mutations, observer) {{\n",
       "        var display = window.getComputedStyle(gd).display;\n",
       "        if (!display || display === 'none') {{\n",
       "            console.log([gd, 'removed!']);\n",
       "            Plotly.purge(gd);\n",
       "            observer.disconnect();\n",
       "        }}\n",
       "}});\n",
       "\n",
       "// Listen for the removal of the full notebook cells\n",
       "var notebookContainer = gd.closest('#notebook-container');\n",
       "if (notebookContainer) {{\n",
       "    x.observe(notebookContainer, {childList: true});\n",
       "}}\n",
       "\n",
       "// Listen for the clearing of the current output cell\n",
       "var outputEl = gd.closest('.output');\n",
       "if (outputEl) {{\n",
       "    x.observe(outputEl, {childList: true});\n",
       "}}\n",
       "\n",
       "                        })\n",
       "                };\n",
       "                });\n",
       "            </script>\n",
       "        </div>"
      ]
     },
     "metadata": {},
     "output_type": "display_data"
    }
   ],
   "source": [
    "# all_trace = [traceapp1, traceapp2] \n",
    "# all_figure = go.Figure(data = all_trace, layout = all_layout)\n",
    "fig.update_layout(hovermode = 'x', showlegend= True, title = \"Google Search Interest Overtime\")\n",
    "\n",
    "fig.show()"
   ]
  },
  {
   "cell_type": "code",
   "execution_count": null,
   "metadata": {},
   "outputs": [],
   "source": []
  }
 ],
 "metadata": {
  "kernelspec": {
   "display_name": "Python 3",
   "language": "python",
   "name": "python3"
  },
  "language_info": {
   "codemirror_mode": {
    "name": "ipython",
    "version": 3
   },
   "file_extension": ".py",
   "mimetype": "text/x-python",
   "name": "python",
   "nbconvert_exporter": "python",
   "pygments_lexer": "ipython3",
   "version": "3.7.4"
  }
 },
 "nbformat": 4,
 "nbformat_minor": 2
}
