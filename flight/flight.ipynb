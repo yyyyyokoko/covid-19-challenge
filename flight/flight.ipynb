{
 "cells": [
  {
   "cell_type": "code",
   "execution_count": 2,
   "metadata": {},
   "outputs": [],
   "source": [
    "import pandas as pd"
   ]
  },
  {
   "cell_type": "code",
   "execution_count": 3,
   "metadata": {},
   "outputs": [],
   "source": [
    "code = pd.read_csv(\"Airport_Code.csv\")\n",
    "flights = pd.read_csv(\"Flights_with_TSA_Contact.csv\")"
   ]
  },
  {
   "cell_type": "code",
   "execution_count": 4,
   "metadata": {},
   "outputs": [
    {
     "data": {
      "text/plain": [
       "Index(['origin_airport', 'dest_airport', 'carrier_name', 'date',\n",
       "       'number_seats', 'weighted_seats'],\n",
       "      dtype='object')"
      ]
     },
     "execution_count": 4,
     "metadata": {},
     "output_type": "execute_result"
    }
   ],
   "source": [
    "flights.columns"
   ]
  },
  {
   "cell_type": "code",
   "execution_count": 5,
   "metadata": {},
   "outputs": [],
   "source": [
    "flights = flights.set_index('origin_airport').join(code.set_index('Code'))\n",
    "flights['origin_airport'] = flights.index\n",
    "flights = flights.reset_index(drop = True)\n",
    "flights.rename(columns = {'City':'origin_City', 'State':'origin_State'}, inplace = True) "
   ]
  },
  {
   "cell_type": "code",
   "execution_count": 6,
   "metadata": {},
   "outputs": [],
   "source": [
    "#flights = flights.set_index('dest_airport').join(code.set_index('Code'))\n",
    "flights = flights.set_index('dest_airport').join(code.set_index('Code'))\n",
    "flights['dest_airport'] = flights.index\n",
    "flights = flights.reset_index(drop = True)\n",
    "flights.rename(columns = {'City':'dest_City', 'State':'dest_State'}, inplace = True) "
   ]
  },
  {
   "cell_type": "code",
   "execution_count": 42,
   "metadata": {},
   "outputs": [],
   "source": []
  },
  {
   "cell_type": "code",
   "execution_count": 9,
   "metadata": {},
   "outputs": [],
   "source": [
    "#flights.to_csv(\"cleaned_flight.csv\")"
   ]
  },
  {
   "cell_type": "code",
   "execution_count": null,
   "metadata": {},
   "outputs": [],
   "source": []
  },
  {
   "cell_type": "code",
   "execution_count": null,
   "metadata": {},
   "outputs": [],
   "source": []
  }
 ],
 "metadata": {
  "kernelspec": {
   "display_name": "Python 3",
   "language": "python",
   "name": "python3"
  },
  "language_info": {
   "codemirror_mode": {
    "name": "ipython",
    "version": 3
   },
   "file_extension": ".py",
   "mimetype": "text/x-python",
   "name": "python",
   "nbconvert_exporter": "python",
   "pygments_lexer": "ipython3",
   "version": "3.7.4"
  }
 },
 "nbformat": 4,
 "nbformat_minor": 2
}
